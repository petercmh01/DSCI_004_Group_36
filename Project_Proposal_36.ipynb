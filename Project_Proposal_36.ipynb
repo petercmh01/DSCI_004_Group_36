{
 "cells": [
  {
   "cell_type": "markdown",
   "id": "ea3feb2c-240c-4269-9b66-56852de0c8fd",
   "metadata": {},
   "source": [
    "# Group 36 Project Proposal\n",
    "\n",
    "### Group Members: Bhavtej Bhasin, Peter Chen, Theresa Choi, Sky Langille\n",
    "### DSCI 100 004"
   ]
  },
  {
   "cell_type": "markdown",
   "id": "62caf47b-8c30-4f96-ac21-e0f64f2a1c34",
   "metadata": {},
   "source": [
    "**Proposed Title:**"
   ]
  },
  {
   "cell_type": "markdown",
   "id": "42f092a3-83e3-4406-b200-c9c5bbdc196e",
   "metadata": {},
   "source": [
    "**Introduction:**\n",
    "- provide background info on selected topic\n",
    "- clearly state our predictive question\n",
    "- identify and describe the data set we chose to use"
   ]
  },
  {
   "cell_type": "markdown",
   "id": "9baa39ec-2d5a-44df-b418-66937bed0d55",
   "metadata": {},
   "source": [
    "**Preliminary Data Analysis:**\n",
    "- demonstrate data set can be read into R\n",
    "- clean and wrangle data into tidy format\n",
    "- separate into training and test data; summarize training data into a table and visualize data with at least one plot"
   ]
  },
  {
   "cell_type": "markdown",
   "id": "af63de54-b8f5-4d3a-8630-3b307cbe51bd",
   "metadata": {},
   "source": [
    "**Methods:**\n",
    "- explain how we will conduct analysis and what variable or columns will be used\n",
    "- describe at least one way we will visualize our results"
   ]
  },
  {
   "cell_type": "markdown",
   "id": "5a09c0b3-ac0d-4290-afce-663a3cdad282",
   "metadata": {},
   "source": [
    "**Expected Outcomes and Significance:**\n",
    "- what do we expect to happen?\n",
    "- why is this important?\n",
    "- what future questions can this lead to?"
   ]
  }
 ],
 "metadata": {
  "kernelspec": {
   "display_name": "R",
   "language": "R",
   "name": "ir"
  },
  "language_info": {
   "codemirror_mode": "r",
   "file_extension": ".r",
   "mimetype": "text/x-r-source",
   "name": "R",
   "pygments_lexer": "r",
   "version": "4.2.2"
  }
 },
 "nbformat": 4,
 "nbformat_minor": 5
}

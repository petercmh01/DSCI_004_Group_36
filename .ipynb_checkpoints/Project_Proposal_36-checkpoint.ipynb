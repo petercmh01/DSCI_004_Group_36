{
 "cells": [
  {
   "cell_type": "markdown",
   "id": "ea3feb2c-240c-4269-9b66-56852de0c8fd",
   "metadata": {},
   "source": [
    "# Group 36 Project Proposal\n",
    "\n",
    "### Group Members: Bhavtej Bhasin, Peter Chen, Theresa Choi, Sky Langille\n",
    "### DSCI 100 004"
   ]
  },
  {
   "cell_type": "code",
   "execution_count": 16,
   "id": "f86a3bda-2a16-46a9-bd4a-3c30b331611b",
   "metadata": {
    "tags": []
   },
   "outputs": [],
   "source": [
    "#loading libraries\n",
    "library(repr)\n",
    "library(tidyverse)\n",
    "library(tidymodels)\n",
    "options(repr.matrix.max.rows = 10)"
   ]
  },
  {
   "cell_type": "markdown",
   "id": "62caf47b-8c30-4f96-ac21-e0f64f2a1c34",
   "metadata": {},
   "source": [
    "**Proposed Title:** K-Nearest Neighbor Regression Model for University Ranking Based on the Ratio of Female Students."
   ]
  },
  {
   "cell_type": "markdown",
   "id": "42f092a3-83e3-4406-b200-c9c5bbdc196e",
   "metadata": {},
   "source": [
    "**Introduction:**\n",
    "- Background Information:\n",
    "    - University rankings are one of the first aspects viewed when students, their families or employers look into a prospective education or employee. These rankings are valued by many people including the university itself as through these filters and discoveries flaws, biases, or interesting variables can be found within the data. By diving deeper into how the female student ratio in universities around the world influence the school's ranking, more informed decisions can be made by prospective students of their choice of a post-secondary school, students can expect the kind of environment they will be entering and education they will be receiving. \n",
    "- Predictive Question:\n",
    "    - Can global university ranking be predicted using the ratio of female students within the student body?\n",
    "- Data Set:\n",
    "    - The data set we have selected to use for this study is the World University Rankings 2023 data set published on Kaggle by Syed Ali Taqi in collaboration with Abdullah Sajid and Muhammad Jawad Awan. This set includes university rankings from across 104 countries which includes 1,799 indivdual universities. Original variables include:\n",
    "- Name of university\n",
    "- Location\n",
    "- Number of students\n",
    "- Number of students per staff\n",
    "- International student percentage\n",
    "- Female to male ratio (out of 100 count)\n",
    "As well as scoring variables:\n",
    "- Overall score\n",
    "- Teaching score\n",
    "- Research score\n",
    "- Citation score\n",
    "- Industry income score\n",
    "- International outlook score"
   ]
  },
  {
   "cell_type": "markdown",
   "id": "9baa39ec-2d5a-44df-b418-66937bed0d55",
   "metadata": {},
   "source": [
    "**Preliminary Data Analysis:**\n",
    "- demonstrate data set can be read into R\n",
    "- clean and wrangle data into tidy format\n",
    "- separate into training and test data; summarize training data into a table and visualize data with at least one plot"
   ]
  },
  {
   "cell_type": "code",
   "execution_count": 33,
   "id": "a8d7f277-d025-4a5b-9f63-000c3d91df89",
   "metadata": {
    "tags": []
   },
   "outputs": [
    {
     "name": "stderr",
     "output_type": "stream",
     "text": [
      "\u001b[1mRows: \u001b[22m\u001b[34m2341\u001b[39m \u001b[1mColumns: \u001b[22m\u001b[34m13\u001b[39m\n",
      "\u001b[36m──\u001b[39m \u001b[1mColumn specification\u001b[22m \u001b[36m────────────────────────────────────────────────────────\u001b[39m\n",
      "\u001b[1mDelimiter:\u001b[22m \",\"\n",
      "\u001b[31mchr\u001b[39m (11): University Rank, Name of University, Location, International Stude...\n",
      "\u001b[32mdbl\u001b[39m  (1): No of student per staff\n",
      "\u001b[32mnum\u001b[39m  (1): No of student\n",
      "\n",
      "\u001b[36mℹ\u001b[39m Use `spec()` to retrieve the full column specification for this data.\n",
      "\u001b[36mℹ\u001b[39m Specify the column types or set `show_col_types = FALSE` to quiet this message.\n"
     ]
    }
   ],
   "source": [
    "#load dataset\n",
    "university_data <- read_csv(\"World University Rankings 2023.csv\")"
   ]
  },
  {
   "cell_type": "code",
   "execution_count": 53,
   "id": "d880f053-3aa1-4f5e-9dbb-987c38eed2bc",
   "metadata": {
    "tags": []
   },
   "outputs": [],
   "source": [
    "#initial data wrangling\n",
    "university_rename <- university_data |> #rename relevant columns\n",
    "    rename(\n",
    "       \"university_rank\" = \"University Rank\",\n",
    "        \"name_of_university\" = \"Name of University\",\n",
    "        \"number_of_students\" = \"No of student\",\n",
    "        \"number_students_per_staff\" = \"No of student per staff\",\n",
    "        \"international_students\" = \"International Student\",\n",
    "        \"femalemale_ratio\" = \"Female:Male Ratio\"\n",
    "    )\n",
    "\n",
    "university_student_stats <- university_rename |> #create tibble with only relvant columns\n",
    "    select(university_rank, name_of_university, number_of_students, number_students_per_staff, international_students, femalemale_ratio) |>\n",
    "    filter(university_rank != \"Reporter\") |> #filter out unranked universities\n",
    "    filter(complete.cases(femalemale_ratio)) |> #filter out universities that did not report a female:male student ratio\n",
    "    mutate(university_rank = as.numeric(university_rank)) |> #change ranking from character to numeric\n",
    "    drop_na(university_rank) #filter for only universities with a non-range ranking (eg. no universities ranked 200-250)\n",
    "\n",
    "university_separate <- university_student_stats |> #separate male and female student ratio into two columns\n",
    "    separate(\n",
    "        col = femalemale_ratio,\n",
    "        into = c(\"female_student_ratio\", \"male_student_ratio\"),\n",
    "        sep = \":\")\n",
    "\n",
    "university_female <- university_separate |> #separate tibble with only univeristy rank, name and ratio of female students\n",
    "    select(university_rank, name_of_university, female_student_ratio)\n",
    "university_female"
   ]
  },
  {
   "cell_type": "code",
   "execution_count": 53,
   "id": "fa1ed7c2-e164-4199-9c4a-1608c97e2bc3",
   "metadata": {
    "tags": []
   },
   "outputs": [],
   "source": [
    "#split data into training and testing sets; summarize training set in one table\n",
    "set.seed(2023) #set seed DO NOT CHANGE!\n",
    "\n",
    "university_split <- initial_split(university_female, prop = 0.70, strata = university_rank) #split data into training and testing sets\n",
    "university_training <- training(university_split)\n",
    "university_testing <- testing(university_split)\n",
    "\n",
    "training_table <- university_training |>\n",
    "    "
   ]
  },
  {
   "cell_type": "code",
   "execution_count": 43,
   "id": "fb0833de-7d45-4de3-8560-29b2551cb07b",
   "metadata": {
    "tags": []
   },
   "outputs": [],
   "source": [
    "#generate scatterplot of university ranking vs. female student ratio\n",
    "options(repr.plot.height = 8, repr.plot.width = 15) #set visualization dimensions\n",
    "\n",
    "uni_ratio_plot <- university_training |> \n",
    "    ggplot(aes(x = female_student_ratio, y = university_rank)) +\n",
    "    geom_point() +\n",
    "    xlab(\"Ratio of Female University Students\") +\n",
    "    ylab(\"Ranking of University\") +\n",
    "    ggtitle(\"Ratio of Female Students VS. University Ranking in Training Set\") +\n",
    "    theme(text = element_text(size=20))\n",
    "uni_ratio_plot"
   ]
  },
  {
   "cell_type": "markdown",
   "id": "af63de54-b8f5-4d3a-8630-3b307cbe51bd",
   "metadata": {},
   "source": [
    "**Methods:**\n",
    "- explain how we will conduct analysis and what variable or columns will be used\n",
    "- describe at least one way we will visualize our results\n",
    "\n",
    "- Use K-nearest neighbor regression to predict university ranking based on ratio of female students (? > make the project a little more complex because we'll have to separate the male:female ratio column instead of just eliminating it), teaching score (analyze assumed quality of teaching)\n",
    "    - We should try and avoid using more than one variable for regression because the visualization will be 3D and we have not been taught that (could be changed if we are taught or we go to the teaching team to learn but will likely complicate the project)"
   ]
  },
  {
   "cell_type": "markdown",
   "id": "5a09c0b3-ac0d-4290-afce-663a3cdad282",
   "metadata": {},
   "source": [
    "**Expected Outcomes and Significance:**\n",
    "- what do we expect to happen?\n",
    "- why is this important?\n",
    "- what future questions can this lead to?"
   ]
  }
 ],
 "metadata": {
  "kernelspec": {
   "display_name": "R",
   "language": "R",
   "name": "ir"
  },
  "language_info": {
   "codemirror_mode": "r",
   "file_extension": ".r",
   "mimetype": "text/x-r-source",
   "name": "R",
   "pygments_lexer": "r",
   "version": "4.2.2"
  }
 },
 "nbformat": 4,
 "nbformat_minor": 5
}

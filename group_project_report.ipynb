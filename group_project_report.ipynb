{
 "cells": [
  {
   "cell_type": "markdown",
   "id": "d78bfc42-aa66-47e8-8e24-17cc7e9a80c2",
   "metadata": {},
   "source": [
    "# Group 36 Project Report\n",
    "\n",
    "### Group Members: Bhavtej Bhasin, Peter Chen, Theresa Choi, Sky Langille\n",
    "### DSCI 100 004"
   ]
  },
  {
   "cell_type": "code",
   "execution_count": null,
   "id": "e5be15f2-4255-472d-a500-1fcd42bec275",
   "metadata": {},
   "outputs": [],
   "source": [
    "#loading libraries\n",
    "library(repr)\n",
    "library(tidyverse)\n",
    "library(tidymodels)\n",
    "options(repr.matrix.max.rows = 10)\n",
    "install.packages(\"kknn\")"
   ]
  },
  {
   "cell_type": "markdown",
   "id": "cb9abac5-0822-440b-889a-e4df5ddb7d3c",
   "metadata": {},
   "source": [
    "## K-Nearest Neighbor Regression Model for University Ranking Based on the Ratio of Female Students."
   ]
  },
  {
   "cell_type": "markdown",
   "id": "d87278aa-fe59-416d-a5c3-d4c28e66a053",
   "metadata": {},
   "source": [
    "**Introduction:**\n",
    "\n",
    "Provide some relevant background information on the topic so that someone unfamiliar with it will be prepared to understand the rest of your report\n",
    "clearly state the question you tried to answer with your project\n",
    "identify and describe the dataset that was used to answer the question"
   ]
  },
  {
   "cell_type": "markdown",
   "id": "8f81fdd5-8184-4f2f-a1f1-7660f2991d3f",
   "metadata": {},
   "source": []
  }
 ],
 "metadata": {
  "kernelspec": {
   "display_name": "R",
   "language": "R",
   "name": "ir"
  },
  "language_info": {
   "codemirror_mode": "r",
   "file_extension": ".r",
   "mimetype": "text/x-r-source",
   "name": "R",
   "pygments_lexer": "r",
   "version": "4.2.2"
  }
 },
 "nbformat": 4,
 "nbformat_minor": 5
}

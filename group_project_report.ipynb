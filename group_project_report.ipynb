{
 "cells": [
  {
   "cell_type": "markdown",
   "id": "d78bfc42-aa66-47e8-8e24-17cc7e9a80c2",
   "metadata": {},
   "source": [
    "# Group 36 Project Report\n",
    "\n",
    "### Group Members: Bhavtej Bhasin, Peter Chen, Theresa Choi, Sky Langille\n",
    "### DSCI 100 004"
   ]
  },
  {
   "cell_type": "code",
   "execution_count": 7,
   "id": "e5be15f2-4255-472d-a500-1fcd42bec275",
   "metadata": {
    "tags": []
   },
   "outputs": [
    {
     "name": "stderr",
     "output_type": "stream",
     "text": [
      "── \u001b[1mAttaching packages\u001b[22m ─────────────────────────────────────── tidyverse 1.3.2 ──\n",
      "\u001b[32m✔\u001b[39m \u001b[34mggplot2\u001b[39m 3.4.2     \u001b[32m✔\u001b[39m \u001b[34mpurrr  \u001b[39m 1.0.1\n",
      "\u001b[32m✔\u001b[39m \u001b[34mtibble \u001b[39m 3.2.1     \u001b[32m✔\u001b[39m \u001b[34mdplyr  \u001b[39m 1.1.1\n",
      "\u001b[32m✔\u001b[39m \u001b[34mtidyr  \u001b[39m 1.3.0     \u001b[32m✔\u001b[39m \u001b[34mstringr\u001b[39m 1.5.0\n",
      "\u001b[32m✔\u001b[39m \u001b[34mreadr  \u001b[39m 2.1.3     \u001b[32m✔\u001b[39m \u001b[34mforcats\u001b[39m 0.5.2\n",
      "── \u001b[1mConflicts\u001b[22m ────────────────────────────────────────── tidyverse_conflicts() ──\n",
      "\u001b[31m✖\u001b[39m \u001b[34mdplyr\u001b[39m::\u001b[32mfilter()\u001b[39m masks \u001b[34mstats\u001b[39m::filter()\n",
      "\u001b[31m✖\u001b[39m \u001b[34mdplyr\u001b[39m::\u001b[32mlag()\u001b[39m    masks \u001b[34mstats\u001b[39m::lag()\n",
      "── \u001b[1mAttaching packages\u001b[22m ────────────────────────────────────── tidymodels 1.0.0 ──\n",
      "\n",
      "\u001b[32m✔\u001b[39m \u001b[34mbroom       \u001b[39m 1.0.2     \u001b[32m✔\u001b[39m \u001b[34mrsample     \u001b[39m 1.1.1\n",
      "\u001b[32m✔\u001b[39m \u001b[34mdials       \u001b[39m 1.1.0     \u001b[32m✔\u001b[39m \u001b[34mtune        \u001b[39m 1.0.1\n",
      "\u001b[32m✔\u001b[39m \u001b[34minfer       \u001b[39m 1.0.4     \u001b[32m✔\u001b[39m \u001b[34mworkflows   \u001b[39m 1.1.2\n",
      "\u001b[32m✔\u001b[39m \u001b[34mmodeldata   \u001b[39m 1.0.1     \u001b[32m✔\u001b[39m \u001b[34mworkflowsets\u001b[39m 1.0.0\n",
      "\u001b[32m✔\u001b[39m \u001b[34mparsnip     \u001b[39m 1.0.3     \u001b[32m✔\u001b[39m \u001b[34myardstick   \u001b[39m 1.1.0\n",
      "\u001b[32m✔\u001b[39m \u001b[34mrecipes     \u001b[39m 1.0.4     \n",
      "\n",
      "── \u001b[1mConflicts\u001b[22m ───────────────────────────────────────── tidymodels_conflicts() ──\n",
      "\u001b[31m✖\u001b[39m \u001b[34mscales\u001b[39m::\u001b[32mdiscard()\u001b[39m masks \u001b[34mpurrr\u001b[39m::discard()\n",
      "\u001b[31m✖\u001b[39m \u001b[34mdplyr\u001b[39m::\u001b[32mfilter()\u001b[39m   masks \u001b[34mstats\u001b[39m::filter()\n",
      "\u001b[31m✖\u001b[39m \u001b[34mrecipes\u001b[39m::\u001b[32mfixed()\u001b[39m  masks \u001b[34mstringr\u001b[39m::fixed()\n",
      "\u001b[31m✖\u001b[39m \u001b[34mdplyr\u001b[39m::\u001b[32mlag()\u001b[39m      masks \u001b[34mstats\u001b[39m::lag()\n",
      "\u001b[31m✖\u001b[39m \u001b[34myardstick\u001b[39m::\u001b[32mspec()\u001b[39m masks \u001b[34mreadr\u001b[39m::spec()\n",
      "\u001b[31m✖\u001b[39m \u001b[34mrecipes\u001b[39m::\u001b[32mstep()\u001b[39m   masks \u001b[34mstats\u001b[39m::step()\n",
      "\u001b[34m•\u001b[39m Dig deeper into tidy modeling with R at \u001b[32mhttps://www.tmwr.org\u001b[39m\n",
      "\n",
      "Updating HTML index of packages in '.Library'\n",
      "\n",
      "Making 'packages.html' ...\n",
      " done\n",
      "\n"
     ]
    }
   ],
   "source": [
    "#loading libraries\n",
    "library(repr)\n",
    "library(tidyverse)\n",
    "library(tidymodels)\n",
    "options(repr.matrix.max.rows = 10)\n",
    "install.packages(\"kknn\")"
   ]
  },
  {
   "cell_type": "code",
   "execution_count": 11,
   "id": "ebebc03e-720c-45d0-8154-8e680a910a6c",
   "metadata": {
    "tags": []
   },
   "outputs": [
    {
     "name": "stderr",
     "output_type": "stream",
     "text": [
      "\u001b[1mRows: \u001b[22m\u001b[34m2341\u001b[39m \u001b[1mColumns: \u001b[22m\u001b[34m13\u001b[39m\n",
      "\u001b[36m──\u001b[39m \u001b[1mColumn specification\u001b[22m \u001b[36m────────────────────────────────────────────────────────\u001b[39m\n",
      "\u001b[1mDelimiter:\u001b[22m \",\"\n",
      "\u001b[31mchr\u001b[39m (11): University Rank, Name of University, Location, International Stude...\n",
      "\u001b[32mdbl\u001b[39m  (1): No of student per staff\n",
      "\u001b[32mnum\u001b[39m  (1): No of student\n",
      "\n",
      "\u001b[36mℹ\u001b[39m Use `spec()` to retrieve the full column specification for this data.\n",
      "\u001b[36mℹ\u001b[39m Specify the column types or set `show_col_types = FALSE` to quiet this message.\n"
     ]
    },
    {
     "data": {
      "text/html": [
       "<table class=\"dataframe\">\n",
       "<caption>A spec_tbl_df: 2341 × 13</caption>\n",
       "<thead>\n",
       "\t<tr><th scope=col>University Rank</th><th scope=col>Name of University</th><th scope=col>Location</th><th scope=col>No of student</th><th scope=col>No of student per staff</th><th scope=col>International Student</th><th scope=col>Female:Male Ratio</th><th scope=col>OverAll Score</th><th scope=col>Teaching Score</th><th scope=col>Research Score</th><th scope=col>Citations Score</th><th scope=col>Industry Income Score</th><th scope=col>International Outlook Score</th></tr>\n",
       "\t<tr><th scope=col>&lt;chr&gt;</th><th scope=col>&lt;chr&gt;</th><th scope=col>&lt;chr&gt;</th><th scope=col>&lt;dbl&gt;</th><th scope=col>&lt;dbl&gt;</th><th scope=col>&lt;chr&gt;</th><th scope=col>&lt;chr&gt;</th><th scope=col>&lt;chr&gt;</th><th scope=col>&lt;chr&gt;</th><th scope=col>&lt;chr&gt;</th><th scope=col>&lt;chr&gt;</th><th scope=col>&lt;chr&gt;</th><th scope=col>&lt;chr&gt;</th></tr>\n",
       "</thead>\n",
       "<tbody>\n",
       "\t<tr><td>1</td><td>University of Oxford                 </td><td>United Kingdom</td><td>20965</td><td>10.6</td><td>42%</td><td>48 : 52</td><td>96.4</td><td>92.3</td><td>99.7</td><td>99.0</td><td>74.9</td><td>96.2</td></tr>\n",
       "\t<tr><td>2</td><td>Harvard University                   </td><td>United States </td><td>21887</td><td> 9.6</td><td>25%</td><td>50 : 50</td><td>95.2</td><td>94.8</td><td>99.0</td><td>99.3</td><td>49.5</td><td>80.5</td></tr>\n",
       "\t<tr><td>3</td><td>University of Cambridge              </td><td>United Kingdom</td><td>20185</td><td>11.3</td><td>39%</td><td>47 : 53</td><td>94.8</td><td>90.9</td><td>99.5</td><td>97.0</td><td>54.2</td><td>95.8</td></tr>\n",
       "\t<tr><td>3</td><td>Stanford University                  </td><td>United States </td><td>16164</td><td> 7.1</td><td>24%</td><td>46 : 54</td><td>94.8</td><td>94.2</td><td>96.7</td><td>99.8</td><td>65.0</td><td>79.8</td></tr>\n",
       "\t<tr><td>5</td><td>Massachusetts Institute of Technology</td><td>United States </td><td>11415</td><td> 8.2</td><td>33%</td><td>40 : 60</td><td>94.2</td><td>90.7</td><td>93.6</td><td>99.8</td><td>90.9</td><td>89.3</td></tr>\n",
       "\t<tr><td>⋮</td><td>⋮</td><td>⋮</td><td>⋮</td><td>⋮</td><td>⋮</td><td>⋮</td><td>⋮</td><td>⋮</td><td>⋮</td><td>⋮</td><td>⋮</td><td>⋮</td></tr>\n",
       "\t<tr><td>-</td><td>University of the West of Scotland </td><td>NA</td><td>NA</td><td>NA</td><td>NA</td><td>NA</td><td>34.0–39.2</td><td>24.1</td><td>15.5</td><td>61.5</td><td>37.9</td><td>76.8</td></tr>\n",
       "\t<tr><td>-</td><td>University of Windsor              </td><td>NA</td><td>NA</td><td>NA</td><td>NA</td><td>NA</td><td>34.0–39.2</td><td>35.1</td><td>29.4</td><td>34.5</td><td>44.2</td><td>88.7</td></tr>\n",
       "\t<tr><td>-</td><td>University of Wolverhampton        </td><td>NA</td><td>NA</td><td>NA</td><td>NA</td><td>NA</td><td>34.0–39.2</td><td>18.2</td><td>14.3</td><td>68.8</td><td>37.3</td><td>72.0</td></tr>\n",
       "\t<tr><td>-</td><td>University of Wuppertal            </td><td>NA</td><td>NA</td><td>NA</td><td>NA</td><td>NA</td><td>34.0–39.2</td><td>26.4</td><td>26.7</td><td>52.8</td><td>52.1</td><td>47.6</td></tr>\n",
       "\t<tr><td>-</td><td>Xi’an Jiaotong-Liverpool University</td><td>NA</td><td>NA</td><td>NA</td><td>NA</td><td>NA</td><td>34.0–39.2</td><td>17.8</td><td>14.8</td><td>68.2</td><td>38.2</td><td>72.4</td></tr>\n",
       "</tbody>\n",
       "</table>\n"
      ],
      "text/latex": [
       "A spec\\_tbl\\_df: 2341 × 13\n",
       "\\begin{tabular}{lllllllllllll}\n",
       " University Rank & Name of University & Location & No of student & No of student per staff & International Student & Female:Male Ratio & OverAll Score & Teaching Score & Research Score & Citations Score & Industry Income Score & International Outlook Score\\\\\n",
       " <chr> & <chr> & <chr> & <dbl> & <dbl> & <chr> & <chr> & <chr> & <chr> & <chr> & <chr> & <chr> & <chr>\\\\\n",
       "\\hline\n",
       "\t 1 & University of Oxford                  & United Kingdom & 20965 & 10.6 & 42\\% & 48 : 52 & 96.4 & 92.3 & 99.7 & 99.0 & 74.9 & 96.2\\\\\n",
       "\t 2 & Harvard University                    & United States  & 21887 &  9.6 & 25\\% & 50 : 50 & 95.2 & 94.8 & 99.0 & 99.3 & 49.5 & 80.5\\\\\n",
       "\t 3 & University of Cambridge               & United Kingdom & 20185 & 11.3 & 39\\% & 47 : 53 & 94.8 & 90.9 & 99.5 & 97.0 & 54.2 & 95.8\\\\\n",
       "\t 3 & Stanford University                   & United States  & 16164 &  7.1 & 24\\% & 46 : 54 & 94.8 & 94.2 & 96.7 & 99.8 & 65.0 & 79.8\\\\\n",
       "\t 5 & Massachusetts Institute of Technology & United States  & 11415 &  8.2 & 33\\% & 40 : 60 & 94.2 & 90.7 & 93.6 & 99.8 & 90.9 & 89.3\\\\\n",
       "\t ⋮ & ⋮ & ⋮ & ⋮ & ⋮ & ⋮ & ⋮ & ⋮ & ⋮ & ⋮ & ⋮ & ⋮ & ⋮\\\\\n",
       "\t - & University of the West of Scotland  & NA & NA & NA & NA & NA & 34.0–39.2 & 24.1 & 15.5 & 61.5 & 37.9 & 76.8\\\\\n",
       "\t - & University of Windsor               & NA & NA & NA & NA & NA & 34.0–39.2 & 35.1 & 29.4 & 34.5 & 44.2 & 88.7\\\\\n",
       "\t - & University of Wolverhampton         & NA & NA & NA & NA & NA & 34.0–39.2 & 18.2 & 14.3 & 68.8 & 37.3 & 72.0\\\\\n",
       "\t - & University of Wuppertal             & NA & NA & NA & NA & NA & 34.0–39.2 & 26.4 & 26.7 & 52.8 & 52.1 & 47.6\\\\\n",
       "\t - & Xi’an Jiaotong-Liverpool University & NA & NA & NA & NA & NA & 34.0–39.2 & 17.8 & 14.8 & 68.2 & 38.2 & 72.4\\\\\n",
       "\\end{tabular}\n"
      ],
      "text/markdown": [
       "\n",
       "A spec_tbl_df: 2341 × 13\n",
       "\n",
       "| University Rank &lt;chr&gt; | Name of University &lt;chr&gt; | Location &lt;chr&gt; | No of student &lt;dbl&gt; | No of student per staff &lt;dbl&gt; | International Student &lt;chr&gt; | Female:Male Ratio &lt;chr&gt; | OverAll Score &lt;chr&gt; | Teaching Score &lt;chr&gt; | Research Score &lt;chr&gt; | Citations Score &lt;chr&gt; | Industry Income Score &lt;chr&gt; | International Outlook Score &lt;chr&gt; |\n",
       "|---|---|---|---|---|---|---|---|---|---|---|---|---|\n",
       "| 1 | University of Oxford                  | United Kingdom | 20965 | 10.6 | 42% | 48 : 52 | 96.4 | 92.3 | 99.7 | 99.0 | 74.9 | 96.2 |\n",
       "| 2 | Harvard University                    | United States  | 21887 |  9.6 | 25% | 50 : 50 | 95.2 | 94.8 | 99.0 | 99.3 | 49.5 | 80.5 |\n",
       "| 3 | University of Cambridge               | United Kingdom | 20185 | 11.3 | 39% | 47 : 53 | 94.8 | 90.9 | 99.5 | 97.0 | 54.2 | 95.8 |\n",
       "| 3 | Stanford University                   | United States  | 16164 |  7.1 | 24% | 46 : 54 | 94.8 | 94.2 | 96.7 | 99.8 | 65.0 | 79.8 |\n",
       "| 5 | Massachusetts Institute of Technology | United States  | 11415 |  8.2 | 33% | 40 : 60 | 94.2 | 90.7 | 93.6 | 99.8 | 90.9 | 89.3 |\n",
       "| ⋮ | ⋮ | ⋮ | ⋮ | ⋮ | ⋮ | ⋮ | ⋮ | ⋮ | ⋮ | ⋮ | ⋮ | ⋮ |\n",
       "| - | University of the West of Scotland  | NA | NA | NA | NA | NA | 34.0–39.2 | 24.1 | 15.5 | 61.5 | 37.9 | 76.8 |\n",
       "| - | University of Windsor               | NA | NA | NA | NA | NA | 34.0–39.2 | 35.1 | 29.4 | 34.5 | 44.2 | 88.7 |\n",
       "| - | University of Wolverhampton         | NA | NA | NA | NA | NA | 34.0–39.2 | 18.2 | 14.3 | 68.8 | 37.3 | 72.0 |\n",
       "| - | University of Wuppertal             | NA | NA | NA | NA | NA | 34.0–39.2 | 26.4 | 26.7 | 52.8 | 52.1 | 47.6 |\n",
       "| - | Xi’an Jiaotong-Liverpool University | NA | NA | NA | NA | NA | 34.0–39.2 | 17.8 | 14.8 | 68.2 | 38.2 | 72.4 |\n",
       "\n"
      ],
      "text/plain": [
       "     University Rank Name of University                    Location      \n",
       "1    1               University of Oxford                  United Kingdom\n",
       "2    2               Harvard University                    United States \n",
       "3    3               University of Cambridge               United Kingdom\n",
       "4    3               Stanford University                   United States \n",
       "5    5               Massachusetts Institute of Technology United States \n",
       "⋮    ⋮               ⋮                                     ⋮             \n",
       "2337 -               University of the West of Scotland    NA            \n",
       "2338 -               University of Windsor                 NA            \n",
       "2339 -               University of Wolverhampton           NA            \n",
       "2340 -               University of Wuppertal               NA            \n",
       "2341 -               Xi’an Jiaotong-Liverpool University   NA            \n",
       "     No of student No of student per staff International Student\n",
       "1    20965         10.6                    42%                  \n",
       "2    21887          9.6                    25%                  \n",
       "3    20185         11.3                    39%                  \n",
       "4    16164          7.1                    24%                  \n",
       "5    11415          8.2                    33%                  \n",
       "⋮    ⋮             ⋮                       ⋮                    \n",
       "2337 NA            NA                      NA                   \n",
       "2338 NA            NA                      NA                   \n",
       "2339 NA            NA                      NA                   \n",
       "2340 NA            NA                      NA                   \n",
       "2341 NA            NA                      NA                   \n",
       "     Female:Male Ratio OverAll Score Teaching Score Research Score\n",
       "1    48 : 52           96.4          92.3           99.7          \n",
       "2    50 : 50           95.2          94.8           99.0          \n",
       "3    47 : 53           94.8          90.9           99.5          \n",
       "4    46 : 54           94.8          94.2           96.7          \n",
       "5    40 : 60           94.2          90.7           93.6          \n",
       "⋮    ⋮                 ⋮             ⋮              ⋮             \n",
       "2337 NA                34.0–39.2     24.1           15.5          \n",
       "2338 NA                34.0–39.2     35.1           29.4          \n",
       "2339 NA                34.0–39.2     18.2           14.3          \n",
       "2340 NA                34.0–39.2     26.4           26.7          \n",
       "2341 NA                34.0–39.2     17.8           14.8          \n",
       "     Citations Score Industry Income Score International Outlook Score\n",
       "1    99.0            74.9                  96.2                       \n",
       "2    99.3            49.5                  80.5                       \n",
       "3    97.0            54.2                  95.8                       \n",
       "4    99.8            65.0                  79.8                       \n",
       "5    99.8            90.9                  89.3                       \n",
       "⋮    ⋮               ⋮                     ⋮                          \n",
       "2337 61.5            37.9                  76.8                       \n",
       "2338 34.5            44.2                  88.7                       \n",
       "2339 68.8            37.3                  72.0                       \n",
       "2340 52.8            52.1                  47.6                       \n",
       "2341 68.2            38.2                  72.4                       "
      ]
     },
     "metadata": {},
     "output_type": "display_data"
    }
   ],
   "source": [
    "#load dataset into R\n",
    "university_data <- read_csv(\"World University Rankings 2023.csv\")\n",
    "university_data"
   ]
  },
  {
   "cell_type": "markdown",
   "id": "cb9abac5-0822-440b-889a-e4df5ddb7d3c",
   "metadata": {},
   "source": [
    "## K-Nearest Neighbor Regression Model for University Ranking Based on the Ratio of Female Students."
   ]
  },
  {
   "cell_type": "markdown",
   "id": "d87278aa-fe59-416d-a5c3-d4c28e66a053",
   "metadata": {},
   "source": [
    "**Introduction:**\n",
    "\n",
    "Provide some relevant background information on the topic so that someone unfamiliar with it will be prepared to understand the rest of your report\n",
    "clearly state the question you tried to answer with your project\n",
    "identify and describe the dataset that was used to answer the question"
   ]
  },
  {
   "cell_type": "markdown",
   "id": "8f81fdd5-8184-4f2f-a1f1-7660f2991d3f",
   "metadata": {},
   "source": [
    "**Methods & Results:** - CANNOT BE IN BULLET POINTS\n",
    "\n",
    "- Describe in written English the methods you used to perform your analysis from beginning to end that narrates the code the does the analysis.\n",
    "- Your report should include code which:\n",
    "    - loads data from the original source on the web \n",
    "    - wrangles and cleans the data from it's original (downloaded) format to the format necessary for the planned analysis\n",
    "    - performs a summary of the data set that is relevant for exploratory data analysis related to the planned analysis \n",
    "    - creates a visualization of the dataset that is relevant for exploratory data analysis related to the planned analysis\n",
    "    - performs the data analysis\n",
    "    - creates a visualization of the analysis "
   ]
  },
  {
   "cell_type": "markdown",
   "id": "1edf4742-4472-49d4-8e9d-b3efcbe8a799",
   "metadata": {},
   "source": [
    "**Discussion:** - CANNOT BE IN BULLET POINTS\n",
    "- Summarize what you found\n",
    "    - Discuss whether this is what you expected to find?\n",
    "    - Discuss what impact could such findings have?\n",
    "    - Discuss what future questions could this lead to?\n"
   ]
  },
  {
   "cell_type": "markdown",
   "id": "bf105034-9aaa-4206-ba0c-ab6b4e688cf6",
   "metadata": {},
   "source": [
    "**References:**\n",
    "- At least 2 citations of literature relevant to the project (format is your choice, just be consistent across the references).- \n",
    "- Make sure to cite the source of your data as well."
   ]
  }
 ],
 "metadata": {
  "kernelspec": {
   "display_name": "R",
   "language": "R",
   "name": "ir"
  },
  "language_info": {
   "codemirror_mode": "r",
   "file_extension": ".r",
   "mimetype": "text/x-r-source",
   "name": "R",
   "pygments_lexer": "r",
   "version": "4.2.2"
  }
 },
 "nbformat": 4,
 "nbformat_minor": 5
}
